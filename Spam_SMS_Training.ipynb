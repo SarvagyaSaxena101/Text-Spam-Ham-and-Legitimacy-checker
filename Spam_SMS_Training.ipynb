{
  "cells": [
    {
      "cell_type": "code",
      "execution_count": null,
      "metadata": {
        "colab": {
          "base_uri": "https://localhost:8080/"
        },
        "id": "CvHEuamhWLsO",
        "outputId": "333973cc-a8a6-4fb5-841e-7bfa57e3b77a"
      },
      "outputs": [
        {
          "output_type": "stream",
          "name": "stdout",
          "text": [
            "Using Colab cache for faster access to the 'spam-sms-classification-using-nlp' dataset.\n",
            "Path to dataset files: /kaggle/input/spam-sms-classification-using-nlp\n"
          ]
        }
      ],
      "source": [
        "import kagglehub\n",
        "import pandas as pd\n",
        "import numpy as np\n",
        "# Download latest version\n",
        "path = kagglehub.dataset_download(\"mariumfaheem666/spam-sms-classification-using-nlp\")\n",
        "\n",
        "print(\"Path to dataset files:\", path)"
      ]
    },
    {
      "cell_type": "markdown",
      "metadata": {
        "id": "92222506"
      },
      "source": [
        "## Load the dataset\n",
        "\n",
        "### Subtask:\n",
        "Load the dataset from the specified path."
      ]
    },
    {
      "cell_type": "code",
      "metadata": {
        "colab": {
          "base_uri": "https://localhost:8080/",
          "height": 278
        },
        "id": "c2576ba6",
        "outputId": "2babe314-7a5a-41aa-ea0a-a3798ae5fa62"
      },
      "source": [
        "import kagglehub\n",
        "import pandas as pd\n",
        "import numpy as np\n",
        "import os\n",
        "\n",
        "# Download latest version\n",
        "path = kagglehub.dataset_download(\"mariumfaheem666/spam-sms-classification-using-nlp\")\n",
        "\n",
        "print(\"Path to dataset files:\", path)\n",
        "\n",
        "# List files in the downloaded directory to find the correct filename\n",
        "print(os.listdir(path))\n",
        "\n",
        "file_path = os.path.join(path, \"Spam_SMS.csv\")\n",
        "df = pd.read_csv(file_path)\n",
        "\n",
        "# Rename columns for clarity\n",
        "df.rename(columns={'Class': 'label', 'Message': 'sentence'}, inplace=True)\n",
        "\n",
        "display(df.head())"
      ],
      "execution_count": null,
      "outputs": [
        {
          "output_type": "stream",
          "name": "stdout",
          "text": [
            "Using Colab cache for faster access to the 'spam-sms-classification-using-nlp' dataset.\n",
            "Path to dataset files: /kaggle/input/spam-sms-classification-using-nlp\n",
            "['Spam_SMS.csv']\n"
          ]
        },
        {
          "output_type": "display_data",
          "data": {
            "text/plain": [
              "  label                                           sentence\n",
              "0   ham  Go until jurong point, crazy.. Available only ...\n",
              "1   ham                      Ok lar... Joking wif u oni...\n",
              "2  spam  Free entry in 2 a wkly comp to win FA Cup fina...\n",
              "3   ham  U dun say so early hor... U c already then say...\n",
              "4   ham  Nah I don't think he goes to usf, he lives aro..."
            ],
            "text/html": [
              "\n",
              "  <div id=\"df-e1439f9e-1127-4ccb-9c4e-74f9671ed355\" class=\"colab-df-container\">\n",
              "    <div>\n",
              "<style scoped>\n",
              "    .dataframe tbody tr th:only-of-type {\n",
              "        vertical-align: middle;\n",
              "    }\n",
              "\n",
              "    .dataframe tbody tr th {\n",
              "        vertical-align: top;\n",
              "    }\n",
              "\n",
              "    .dataframe thead th {\n",
              "        text-align: right;\n",
              "    }\n",
              "</style>\n",
              "<table border=\"1\" class=\"dataframe\">\n",
              "  <thead>\n",
              "    <tr style=\"text-align: right;\">\n",
              "      <th></th>\n",
              "      <th>label</th>\n",
              "      <th>sentence</th>\n",
              "    </tr>\n",
              "  </thead>\n",
              "  <tbody>\n",
              "    <tr>\n",
              "      <th>0</th>\n",
              "      <td>ham</td>\n",
              "      <td>Go until jurong point, crazy.. Available only ...</td>\n",
              "    </tr>\n",
              "    <tr>\n",
              "      <th>1</th>\n",
              "      <td>ham</td>\n",
              "      <td>Ok lar... Joking wif u oni...</td>\n",
              "    </tr>\n",
              "    <tr>\n",
              "      <th>2</th>\n",
              "      <td>spam</td>\n",
              "      <td>Free entry in 2 a wkly comp to win FA Cup fina...</td>\n",
              "    </tr>\n",
              "    <tr>\n",
              "      <th>3</th>\n",
              "      <td>ham</td>\n",
              "      <td>U dun say so early hor... U c already then say...</td>\n",
              "    </tr>\n",
              "    <tr>\n",
              "      <th>4</th>\n",
              "      <td>ham</td>\n",
              "      <td>Nah I don't think he goes to usf, he lives aro...</td>\n",
              "    </tr>\n",
              "  </tbody>\n",
              "</table>\n",
              "</div>\n",
              "    <div class=\"colab-df-buttons\">\n",
              "\n",
              "  <div class=\"colab-df-container\">\n",
              "    <button class=\"colab-df-convert\" onclick=\"convertToInteractive('df-e1439f9e-1127-4ccb-9c4e-74f9671ed355')\"\n",
              "            title=\"Convert this dataframe to an interactive table.\"\n",
              "            style=\"display:none;\">\n",
              "\n",
              "  <svg xmlns=\"http://www.w3.org/2000/svg\" height=\"24px\" viewBox=\"0 -960 960 960\">\n",
              "    <path d=\"M120-120v-720h720v720H120Zm60-500h600v-160H180v160Zm220 220h160v-160H400v160Zm0 220h160v-160H400v160ZM180-400h160v-160H180v160Zm440 0h160v-160H620v160ZM180-180h160v-160H180v160Zm440 0h160v-160H620v160Z\"/>\n",
              "  </svg>\n",
              "    </button>\n",
              "\n",
              "  <style>\n",
              "    .colab-df-container {\n",
              "      display:flex;\n",
              "      gap: 12px;\n",
              "    }\n",
              "\n",
              "    .colab-df-convert {\n",
              "      background-color: #E8F0FE;\n",
              "      border: none;\n",
              "      border-radius: 50%;\n",
              "      cursor: pointer;\n",
              "      display: none;\n",
              "      fill: #1967D2;\n",
              "      height: 32px;\n",
              "      padding: 0 0 0 0;\n",
              "      width: 32px;\n",
              "    }\n",
              "\n",
              "    .colab-df-convert:hover {\n",
              "      background-color: #E2EBFA;\n",
              "      box-shadow: 0px 1px 2px rgba(60, 64, 67, 0.3), 0px 1px 3px 1px rgba(60, 64, 67, 0.15);\n",
              "      fill: #174EA6;\n",
              "    }\n",
              "\n",
              "    .colab-df-buttons div {\n",
              "      margin-bottom: 4px;\n",
              "    }\n",
              "\n",
              "    [theme=dark] .colab-df-convert {\n",
              "      background-color: #3B4455;\n",
              "      fill: #D2E3FC;\n",
              "    }\n",
              "\n",
              "    [theme=dark] .colab-df-convert:hover {\n",
              "      background-color: #434B5C;\n",
              "      box-shadow: 0px 1px 3px 1px rgba(0, 0, 0, 0.15);\n",
              "      filter: drop-shadow(0px 1px 2px rgba(0, 0, 0, 0.3));\n",
              "      fill: #FFFFFF;\n",
              "    }\n",
              "  </style>\n",
              "\n",
              "    <script>\n",
              "      const buttonEl =\n",
              "        document.querySelector('#df-e1439f9e-1127-4ccb-9c4e-74f9671ed355 button.colab-df-convert');\n",
              "      buttonEl.style.display =\n",
              "        google.colab.kernel.accessAllowed ? 'block' : 'none';\n",
              "\n",
              "      async function convertToInteractive(key) {\n",
              "        const element = document.querySelector('#df-e1439f9e-1127-4ccb-9c4e-74f9671ed355');\n",
              "        const dataTable =\n",
              "          await google.colab.kernel.invokeFunction('convertToInteractive',\n",
              "                                                    [key], {});\n",
              "        if (!dataTable) return;\n",
              "\n",
              "        const docLinkHtml = 'Like what you see? Visit the ' +\n",
              "          '<a target=\"_blank\" href=https://colab.research.google.com/notebooks/data_table.ipynb>data table notebook</a>'\n",
              "          + ' to learn more about interactive tables.';\n",
              "        element.innerHTML = '';\n",
              "        dataTable['output_type'] = 'display_data';\n",
              "        await google.colab.output.renderOutput(dataTable, element);\n",
              "        const docLink = document.createElement('div');\n",
              "        docLink.innerHTML = docLinkHtml;\n",
              "        element.appendChild(docLink);\n",
              "      }\n",
              "    </script>\n",
              "  </div>\n",
              "\n",
              "\n",
              "    <div id=\"df-6bea152b-5844-420c-989a-c40372c3dbf7\">\n",
              "      <button class=\"colab-df-quickchart\" onclick=\"quickchart('df-6bea152b-5844-420c-989a-c40372c3dbf7')\"\n",
              "                title=\"Suggest charts\"\n",
              "                style=\"display:none;\">\n",
              "\n",
              "<svg xmlns=\"http://www.w3.org/2000/svg\" height=\"24px\"viewBox=\"0 0 24 24\"\n",
              "     width=\"24px\">\n",
              "    <g>\n",
              "        <path d=\"M19 3H5c-1.1 0-2 .9-2 2v14c0 1.1.9 2 2 2h14c1.1 0 2-.9 2-2V5c0-1.1-.9-2-2-2zM9 17H7v-7h2v7zm4 0h-2V7h2v10zm4 0h-2v-4h2v4z\"/>\n",
              "    </g>\n",
              "</svg>\n",
              "      </button>\n",
              "\n",
              "<style>\n",
              "  .colab-df-quickchart {\n",
              "      --bg-color: #E8F0FE;\n",
              "      --fill-color: #1967D2;\n",
              "      --hover-bg-color: #E2EBFA;\n",
              "      --hover-fill-color: #174EA6;\n",
              "      --disabled-fill-color: #AAA;\n",
              "      --disabled-bg-color: #DDD;\n",
              "  }\n",
              "\n",
              "  [theme=dark] .colab-df-quickchart {\n",
              "      --bg-color: #3B4455;\n",
              "      --fill-color: #D2E3FC;\n",
              "      --hover-bg-color: #434B5C;\n",
              "      --hover-fill-color: #FFFFFF;\n",
              "      --disabled-bg-color: #3B4455;\n",
              "      --disabled-fill-color: #666;\n",
              "  }\n",
              "\n",
              "  .colab-df-quickchart {\n",
              "    background-color: var(--bg-color);\n",
              "    border: none;\n",
              "    border-radius: 50%;\n",
              "    cursor: pointer;\n",
              "    display: none;\n",
              "    fill: var(--fill-color);\n",
              "    height: 32px;\n",
              "    padding: 0;\n",
              "    width: 32px;\n",
              "  }\n",
              "\n",
              "  .colab-df-quickchart:hover {\n",
              "    background-color: var(--hover-bg-color);\n",
              "    box-shadow: 0 1px 2px rgba(60, 64, 67, 0.3), 0 1px 3px 1px rgba(60, 64, 67, 0.15);\n",
              "    fill: var(--button-hover-fill-color);\n",
              "  }\n",
              "\n",
              "  .colab-df-quickchart-complete:disabled,\n",
              "  .colab-df-quickchart-complete:disabled:hover {\n",
              "    background-color: var(--disabled-bg-color);\n",
              "    fill: var(--disabled-fill-color);\n",
              "    box-shadow: none;\n",
              "  }\n",
              "\n",
              "  .colab-df-spinner {\n",
              "    border: 2px solid var(--fill-color);\n",
              "    border-color: transparent;\n",
              "    border-bottom-color: var(--fill-color);\n",
              "    animation:\n",
              "      spin 1s steps(1) infinite;\n",
              "  }\n",
              "\n",
              "  @keyframes spin {\n",
              "    0% {\n",
              "      border-color: transparent;\n",
              "      border-bottom-color: var(--fill-color);\n",
              "      border-left-color: var(--fill-color);\n",
              "    }\n",
              "    20% {\n",
              "      border-color: transparent;\n",
              "      border-left-color: var(--fill-color);\n",
              "      border-top-color: var(--fill-color);\n",
              "    }\n",
              "    30% {\n",
              "      border-color: transparent;\n",
              "      border-left-color: var(--fill-color);\n",
              "      border-top-color: var(--fill-color);\n",
              "      border-right-color: var(--fill-color);\n",
              "    }\n",
              "    40% {\n",
              "      border-color: transparent;\n",
              "      border-right-color: var(--fill-color);\n",
              "      border-top-color: var(--fill-color);\n",
              "    }\n",
              "    60% {\n",
              "      border-color: transparent;\n",
              "      border-right-color: var(--fill-color);\n",
              "    }\n",
              "    80% {\n",
              "      border-color: transparent;\n",
              "      border-right-color: var(--fill-color);\n",
              "      border-bottom-color: var(--fill-color);\n",
              "    }\n",
              "    90% {\n",
              "      border-color: transparent;\n",
              "      border-bottom-color: var(--fill-color);\n",
              "    }\n",
              "  }\n",
              "</style>\n",
              "\n",
              "      <script>\n",
              "        async function quickchart(key) {\n",
              "          const quickchartButtonEl =\n",
              "            document.querySelector('#' + key + ' button');\n",
              "          quickchartButtonEl.disabled = true;  // To prevent multiple clicks.\n",
              "          quickchartButtonEl.classList.add('colab-df-spinner');\n",
              "          try {\n",
              "            const charts = await google.colab.kernel.invokeFunction(\n",
              "                'suggestCharts', [key], {});\n",
              "          } catch (error) {\n",
              "            console.error('Error during call to suggestCharts:', error);\n",
              "          }\n",
              "          quickchartButtonEl.classList.remove('colab-df-spinner');\n",
              "          quickchartButtonEl.classList.add('colab-df-quickchart-complete');\n",
              "        }\n",
              "        (() => {\n",
              "          let quickchartButtonEl =\n",
              "            document.querySelector('#df-6bea152b-5844-420c-989a-c40372c3dbf7 button');\n",
              "          quickchartButtonEl.style.display =\n",
              "            google.colab.kernel.accessAllowed ? 'block' : 'none';\n",
              "        })();\n",
              "      </script>\n",
              "    </div>\n",
              "\n",
              "    </div>\n",
              "  </div>\n"
            ],
            "application/vnd.google.colaboratory.intrinsic+json": {
              "type": "dataframe",
              "summary": "{\n  \"name\": \"display(df\",\n  \"rows\": 5,\n  \"fields\": [\n    {\n      \"column\": \"label\",\n      \"properties\": {\n        \"dtype\": \"category\",\n        \"num_unique_values\": 2,\n        \"samples\": [\n          \"spam\",\n          \"ham\"\n        ],\n        \"semantic_type\": \"\",\n        \"description\": \"\"\n      }\n    },\n    {\n      \"column\": \"sentence\",\n      \"properties\": {\n        \"dtype\": \"string\",\n        \"num_unique_values\": 5,\n        \"samples\": [\n          \"Ok lar... Joking wif u oni...\",\n          \"Nah I don't think he goes to usf, he lives around here though\"\n        ],\n        \"semantic_type\": \"\",\n        \"description\": \"\"\n      }\n    }\n  ]\n}"
            }
          },
          "metadata": {}
        }
      ]
    },
    {
      "cell_type": "markdown",
      "metadata": {
        "id": "8157aa71"
      },
      "source": [
        "## Preprocessing and Splitting\n",
        "\n",
        "### Subtask:\n",
        "Preprocess the text data and split the data into training and testing sets."
      ]
    },
    {
      "cell_type": "markdown",
      "metadata": {
        "id": "6558f7d1"
      },
      "source": [
        "## Model Training\n",
        "\n",
        "### Subtask:\n",
        "Define and train a BERT model for SMS spam classification."
      ]
    },
    {
      "cell_type": "code",
      "metadata": {
        "colab": {
          "base_uri": "https://localhost:8080/"
        },
        "id": "d2129843",
        "outputId": "5a88a3e5-b3a5-470c-e861-0ee6d0007042"
      },
      "source": [
        "from sklearn.model_selection import train_test_split\n",
        "from sklearn.preprocessing import LabelEncoder\n",
        "from transformers import BertTokenizer\n",
        "import tensorflow as tf\n",
        "\n",
        "# Encode labels to integers\n",
        "le = LabelEncoder()\n",
        "df['label'] = le.fit_transform(df['label'])\n",
        "\n",
        "# Split into train and test\n",
        "X_train, X_test, y_train, y_test = train_test_split(\n",
        "    df['sentence'].tolist(),\n",
        "    df['label'].tolist(),\n",
        "    test_size=0.2,\n",
        "    random_state=42\n",
        ")\n",
        "\n",
        "print(\"Train set size:\", len(X_train))\n",
        "print(\"Test set size:\", len(X_test))\n",
        "\n",
        "tokenizer = BertTokenizer.from_pretrained('bert-base-uncased')\n",
        "\n",
        "train_encodings = tokenizer(\n",
        "    X_train,\n",
        "    truncation=True,\n",
        "    padding=True,\n",
        "    max_length=128, # Reduced max_length for efficiency\n",
        "    return_tensors='tf'\n",
        ")\n",
        "\n",
        "test_encodings = tokenizer(\n",
        "    X_test,\n",
        "    truncation=True,\n",
        "    padding=True,\n",
        "    max_length=128, # Reduced max_length for efficiency\n",
        "    return_tensors='tf'\n",
        ")\n",
        "\n",
        "train_dataset = tf.data.Dataset.from_tensor_slices((\n",
        "    dict(train_encodings),\n",
        "    y_train\n",
        ")).batch(32)\n",
        "\n",
        "test_dataset = tf.data.Dataset.from_tensor_slices((\n",
        "    dict(test_encodings),\n",
        "    y_test\n",
        ")).batch(32)\n",
        "\n",
        "print(\"Train dataset batch size:\", next(iter(train_dataset))[0]['input_ids'].shape)\n",
        "print(\"Test dataset batch size:\", next(iter(test_dataset))[0]['input_ids'].shape)"
      ],
      "execution_count": null,
      "outputs": [
        {
          "output_type": "stream",
          "name": "stdout",
          "text": [
            "Train set size: 4459\n",
            "Test set size: 1115\n",
            "Train dataset batch size: (32, 128)\n",
            "Test dataset batch size: (32, 128)\n"
          ]
        }
      ]
    },
    {
      "cell_type": "code",
      "metadata": {
        "colab": {
          "base_uri": "https://localhost:8080/"
        },
        "id": "b7c1845b",
        "outputId": "de118a8a-5b25-44d5-89c7-cfe7a53bb1b9"
      },
      "source": [
        "from transformers import TFBertForSequenceClassification, create_optimizer\n",
        "# from tensorflow.keras.callbacks import EarlyStopping # Removed EarlyStopping\n",
        "import tensorflow as tf # Import tensorflow\n",
        "\n",
        "# Define the BERT model\n",
        "model = TFBertForSequenceClassification.from_pretrained(\n",
        "    'bert-base-uncased',\n",
        "    num_labels=2, # Binary classification\n",
        "    use_safetensors=False # Explicitly set use_safetensors to False\n",
        ")\n",
        "\n",
        "# Define optimizer\n",
        "# Use create_optimizer from transformers.optimization\n",
        "num_train_steps = len(train_dataset) * 10 # Assuming 10 epochs\n",
        "optimizer, lr_schedule = create_optimizer(\n",
        "    init_lr=5e-5,\n",
        "    num_warmup_steps=0, # You can adjust warmup steps\n",
        "    num_train_steps=num_train_steps\n",
        ")\n",
        "\n",
        "\n",
        "# Compile the model\n",
        "loss = tf.keras.losses.SparseCategoricalCrossentropy(from_logits=True)\n",
        "model.compile(optimizer=optimizer, loss=loss, metrics=['accuracy'])\n",
        "\n",
        "# Define Early Stopping callback\n",
        "# early_stopping = EarlyStopping(monitor='val_loss', patience=3, restore_best_weights=True) # Removed EarlyStopping\n",
        "\n",
        "# Train the model\n",
        "history = model.fit(\n",
        "    train_dataset,\n",
        "    epochs=10, # You can adjust the number of epochs\n",
        "    # batch_size=32, # Batch size is handled by the dataset\n",
        "    validation_data=test_dataset,\n",
        "    # callbacks=[early_stopping] # Removed EarlyStopping\n",
        ")"
      ],
      "execution_count": 29,
      "outputs": [
        {
          "output_type": "stream",
          "name": "stderr",
          "text": [
            "All model checkpoint layers were used when initializing TFBertForSequenceClassification.\n",
            "\n",
            "Some layers of TFBertForSequenceClassification were not initialized from the model checkpoint at bert-base-uncased and are newly initialized: ['classifier']\n",
            "You should probably TRAIN this model on a down-stream task to be able to use it for predictions and inference.\n"
          ]
        },
        {
          "output_type": "stream",
          "name": "stdout",
          "text": [
            "Epoch 1/10\n",
            "140/140 [==============================] - 186s 878ms/step - loss: 0.0805 - accuracy: 0.9789 - val_loss: 0.0376 - val_accuracy: 0.9910\n",
            "Epoch 2/10\n",
            "140/140 [==============================] - 121s 864ms/step - loss: 0.0273 - accuracy: 0.9924 - val_loss: 0.0288 - val_accuracy: 0.9928\n",
            "Epoch 3/10\n",
            "140/140 [==============================] - 121s 863ms/step - loss: 0.0160 - accuracy: 0.9951 - val_loss: 0.0349 - val_accuracy: 0.9874\n",
            "Epoch 4/10\n",
            "140/140 [==============================] - 120s 860ms/step - loss: 0.0057 - accuracy: 0.9984 - val_loss: 0.0326 - val_accuracy: 0.9910\n",
            "Epoch 5/10\n",
            "140/140 [==============================] - 120s 861ms/step - loss: 0.0019 - accuracy: 0.9996 - val_loss: 0.0300 - val_accuracy: 0.9946\n",
            "Epoch 6/10\n",
            "140/140 [==============================] - 121s 862ms/step - loss: 0.0161 - accuracy: 0.9955 - val_loss: 0.0399 - val_accuracy: 0.9901\n",
            "Epoch 7/10\n",
            "140/140 [==============================] - 121s 862ms/step - loss: 0.0016 - accuracy: 0.9996 - val_loss: 0.0406 - val_accuracy: 0.9919\n",
            "Epoch 8/10\n",
            "140/140 [==============================] - 120s 861ms/step - loss: 7.7118e-04 - accuracy: 0.9998 - val_loss: 0.0489 - val_accuracy: 0.9928\n",
            "Epoch 9/10\n",
            "140/140 [==============================] - 120s 860ms/step - loss: 2.4185e-04 - accuracy: 1.0000 - val_loss: 0.0474 - val_accuracy: 0.9937\n",
            "Epoch 10/10\n",
            "140/140 [==============================] - 120s 861ms/step - loss: 2.1210e-04 - accuracy: 1.0000 - val_loss: 0.0470 - val_accuracy: 0.9937\n"
          ]
        }
      ]
    },
    {
      "cell_type": "markdown",
      "metadata": {
        "id": "eb52b37b"
      },
      "source": [
        "# Task\n",
        "Create a complete pipeline for training a BERT model for text classification, including data loading from \"IMDB Dataset.csv\", preprocessing, model definition, training, and evaluation."
      ]
    },
    {
      "cell_type": "markdown",
      "metadata": {
        "id": "b0106c10"
      },
      "source": [
        "## Saving the Model and Tokenizer\n",
        "\n",
        "### Subtask:\n",
        "Save the trained BERT model and tokenizer to a local directory for offline use."
      ]
    },
    {
      "cell_type": "code",
      "metadata": {
        "colab": {
          "base_uri": "https://localhost:8080/"
        },
        "id": "2d52a55b",
        "outputId": "3129d2d5-eddd-4177-86f4-ebd5a684230f"
      },
      "source": [
        "import os\n",
        "\n",
        "# Define the directory to save the model and tokenizer\n",
        "save_directory = \"./spam_classification_model\"\n",
        "\n",
        "# Create the directory if it doesn't exist\n",
        "if not os.path.exists(save_directory):\n",
        "    os.makedirs(save_directory)\n",
        "\n",
        "# Save the model\n",
        "model.save_pretrained(save_directory)\n",
        "\n",
        "# Save the tokenizer\n",
        "tokenizer.save_pretrained(save_directory)\n",
        "\n",
        "print(f\"Model and tokenizer saved to: {save_directory}\")"
      ],
      "execution_count": 31,
      "outputs": [
        {
          "output_type": "stream",
          "name": "stdout",
          "text": [
            "Model and tokenizer saved to: ./spam_classification_model\n"
          ]
        }
      ]
    },
    {
      "cell_type": "markdown",
      "metadata": {
        "id": "3bb3873f"
      },
      "source": [
        "## Data loading\n",
        "\n",
        "### Subtask:\n",
        "Load the dataset from the specified path into a pandas DataFrame.\n"
      ]
    },
    {
      "cell_type": "markdown",
      "metadata": {
        "id": "0f0a24ea"
      },
      "source": [
        "## Filtering Dependencies\n",
        "\n",
        "### Subtask:\n",
        "Refine the requirements file to include only relevant deep learning and Streamlit dependencies."
      ]
    },
    {
      "cell_type": "code",
      "metadata": {
        "colab": {
          "base_uri": "https://localhost:8080/"
        },
        "id": "fb8cf78d",
        "outputId": "8f0adf6d-eadf-4825-f846-a591c3fdd339"
      },
      "source": [
        "def filter_requirements(requirements_file=\"requirements.txt\"):\n",
        "    \"\"\"Reads a requirements file and filters out irrelevant packages.\"\"\"\n",
        "    relevant_packages = [\n",
        "        \"streamlit\",\n",
        "        \"transformers\",\n",
        "        \"tensorflow\",\n",
        "        \"numpy\",\n",
        "        \"pandas\",\n",
        "        \"scikit-learn\",\n",
        "        \"kagglehub\" # Include kagglehub if you need to download the dataset within the Streamlit app\n",
        "        # Add other relevant packages if necessary\n",
        "    ]\n",
        "    filtered_lines = []\n",
        "    try:\n",
        "        with open(requirements_file, \"r\") as f:\n",
        "            for line in f:\n",
        "                # Check if the line starts with any of the relevant package names\n",
        "                if any(line.strip().lower().startswith(pkg.lower()) for pkg in relevant_packages):\n",
        "                    filtered_lines.append(line)\n",
        "    except FileNotFoundError:\n",
        "        print(f\"Error: {requirements_file} not found.\")\n",
        "        return\n",
        "\n",
        "    # Write the filtered dependencies back to the file\n",
        "    with open(requirements_file, \"w\") as f:\n",
        "        f.writelines(filtered_lines)\n",
        "\n",
        "    print(f\"Filtered dependencies saved to {requirements_file}\")\n",
        "\n",
        "filter_requirements()"
      ],
      "execution_count": 33,
      "outputs": [
        {
          "output_type": "stream",
          "name": "stdout",
          "text": [
            "Filtered dependencies saved to requirements.txt\n"
          ]
        }
      ]
    }
  ],
  "metadata": {
    "colab": {
      "provenance": [],
      "gpuType": "T4"
    },
    "kernelspec": {
      "display_name": "Python 3",
      "name": "python3"
    },
    "language_info": {
      "name": "python"
    },
    "accelerator": "GPU"
  },
  "nbformat": 4,
  "nbformat_minor": 0
}